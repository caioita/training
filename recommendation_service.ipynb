{
  "nbformat": 4,
  "nbformat_minor": 0,
  "metadata": {
    "colab": {
      "provenance": [],
      "include_colab_link": true
    },
    "kernelspec": {
      "name": "python3",
      "display_name": "Python 3"
    },
    "language_info": {
      "name": "python"
    }
  },
  "cells": [
    {
      "cell_type": "markdown",
      "metadata": {
        "id": "view-in-github",
        "colab_type": "text"
      },
      "source": [
        "<a href=\"https://colab.research.google.com/github/caioita/training/blob/main/XGBoost.ipynb\" target=\"_parent\"><img src=\"https://colab.research.google.com/assets/colab-badge.svg\" alt=\"Open In Colab\"/></a>"
      ]
    },
    {
      "cell_type": "code",
      "execution_count": 1,
      "metadata": {
        "id": "0cJtKV-IQDBJ"
      },
      "outputs": [],
      "source": [
        "# Data manipulation\n",
        "import numpy as np\n",
        "import pandas as pd\n",
        "\n",
        "# Data Visualiation\n",
        "import matplotlib.pyplot as plt\n",
        "import seaborn as sns\n",
        "import matplotlib.pyplot as plt\n",
        "from matplotlib.ticker import PercentFormatter\n",
        "\n",
        "# System\n",
        "import os\n",
        "import glob\n",
        "\n",
        "## Pipeline and sklearn\n",
        "from sklearn.model_selection import train_test_split\n",
        "from xgboost import XGBRegressor\n",
        "from sklearn.pipeline import make_pipeline\n",
        "\n",
        "# Preprocessing\n",
        "from sklearn.preprocessing import StandardScaler, MinMaxScaler, FunctionTransformer, OneHotEncoder, LabelEncoder\n",
        "from sklearn.model_selection import train_test_split\n",
        "from sklearn.compose import ColumnTransformer, make_column_transformer\n",
        "from sklearn.pipeline import make_pipeline\n",
        "from sklearn.model_selection import cross_val_score\n",
        "from sklearn.model_selection import cross_validate\n",
        "from sklearn.impute import SimpleImputer\n",
        "\n",
        "# Machine Learning\n",
        "from sklearn.neighbors import KNeighborsClassifier\n",
        "\n",
        "#Metrics\n",
        "from sklearn.metrics import auc, accuracy_score, confusion_matrix, mean_squared_error\n",
        "\n"
      ]
    },
    {
      "cell_type": "code",
      "source": [
        "from google.colab import drive\n",
        "drive.mount('/content/drive')"
      ],
      "metadata": {
        "id": "O06UPJw4tHHB",
        "colab": {
          "base_uri": "https://localhost:8080/"
        },
        "outputId": "c624f60f-7eea-44ce-f5d6-b0604c07d1b3"
      },
      "execution_count": 2,
      "outputs": [
        {
          "output_type": "stream",
          "name": "stdout",
          "text": [
            "Mounted at /content/drive\n"
          ]
        }
      ]
    },
    {
      "cell_type": "code",
      "source": [
        "### Download just one to test\n",
        "data = pd.read_csv('/content/drive/MyDrive/raw_data/solicitacoes_servicos_amazonas.csv',delimiter=',',header=0)"
      ],
      "metadata": {
        "id": "c7uAW_UYZCsa"
      },
      "execution_count": 3,
      "outputs": []
    },
    {
      "cell_type": "code",
      "source": [
        "data.columns = ['id_null','date','client_id','service_id','device','platform','data_source', 'source','medium','channel_grouping','campaign','keyword','landing_page']"
      ],
      "metadata": {
        "id": "asWaejo2lRzy"
      },
      "execution_count": 4,
      "outputs": []
    },
    {
      "cell_type": "code",
      "source": [
        "data.head()"
      ],
      "metadata": {
        "colab": {
          "base_uri": "https://localhost:8080/",
          "height": 337
        },
        "id": "zH5RGXI4QorP",
        "outputId": "b03989d4-f952-43e9-ba0a-a3495e2a8991"
      },
      "execution_count": 5,
      "outputs": [
        {
          "output_type": "execute_result",
          "data": {
            "text/plain": [
              "   id_null        date     client_id  \\\n",
              "0        0  2022-04-07  1.930474e+09   \n",
              "1        0  2022-04-07  1.930474e+09   \n",
              "2        0  2022-04-07  1.930474e+09   \n",
              "3        0  2022-04-06  1.930474e+09   \n",
              "4        0  2022-04-06  1.930474e+09   \n",
              "\n",
              "                                          service_id   device platform  \\\n",
              "0  /pt-br/servicos/consultar-restituicao-de-impos...  desktop  Windows   \n",
              "1  /pt-br/servicos/consultar-cadastro-de-pessoas-...  desktop  Windows   \n",
              "2  /pt-br/servicos/consultar-cadastro-de-pessoas-...  desktop  Windows   \n",
              "3             /receitafederal/pt-br/assuntos/meu-cpf  desktop  Windows   \n",
              "4  /pt-br/servicos/consultar-cadastro-de-pessoas-...  desktop  Windows   \n",
              "\n",
              "  data_source                           source    medium channel_grouping  \\\n",
              "0         web  servicos.receita.fazenda.gov.br  referral         Referral   \n",
              "1         web  servicos.receita.fazenda.gov.br  referral         Referral   \n",
              "2         web  servicos.receita.fazenda.gov.br  referral         Referral   \n",
              "3         web  servicos.receita.fazenda.gov.br  referral         Referral   \n",
              "4         web  servicos.receita.fazenda.gov.br  referral         Referral   \n",
              "\n",
              "    campaign    keyword           landing_page  \n",
              "0  (not set)  (not set)  /receitafederal/pt-br  \n",
              "1  (not set)  (not set)  /receitafederal/pt-br  \n",
              "2  (not set)  (not set)  /receitafederal/pt-br  \n",
              "3  (not set)  (not set)  /receitafederal/pt-br  \n",
              "4  (not set)  (not set)  /receitafederal/pt-br  "
            ],
            "text/html": [
              "\n",
              "  <div id=\"df-2163b7ce-ada7-4052-a9a8-c7636c26627b\">\n",
              "    <div class=\"colab-df-container\">\n",
              "      <div>\n",
              "<style scoped>\n",
              "    .dataframe tbody tr th:only-of-type {\n",
              "        vertical-align: middle;\n",
              "    }\n",
              "\n",
              "    .dataframe tbody tr th {\n",
              "        vertical-align: top;\n",
              "    }\n",
              "\n",
              "    .dataframe thead th {\n",
              "        text-align: right;\n",
              "    }\n",
              "</style>\n",
              "<table border=\"1\" class=\"dataframe\">\n",
              "  <thead>\n",
              "    <tr style=\"text-align: right;\">\n",
              "      <th></th>\n",
              "      <th>id_null</th>\n",
              "      <th>date</th>\n",
              "      <th>client_id</th>\n",
              "      <th>service_id</th>\n",
              "      <th>device</th>\n",
              "      <th>platform</th>\n",
              "      <th>data_source</th>\n",
              "      <th>source</th>\n",
              "      <th>medium</th>\n",
              "      <th>channel_grouping</th>\n",
              "      <th>campaign</th>\n",
              "      <th>keyword</th>\n",
              "      <th>landing_page</th>\n",
              "    </tr>\n",
              "  </thead>\n",
              "  <tbody>\n",
              "    <tr>\n",
              "      <th>0</th>\n",
              "      <td>0</td>\n",
              "      <td>2022-04-07</td>\n",
              "      <td>1.930474e+09</td>\n",
              "      <td>/pt-br/servicos/consultar-restituicao-de-impos...</td>\n",
              "      <td>desktop</td>\n",
              "      <td>Windows</td>\n",
              "      <td>web</td>\n",
              "      <td>servicos.receita.fazenda.gov.br</td>\n",
              "      <td>referral</td>\n",
              "      <td>Referral</td>\n",
              "      <td>(not set)</td>\n",
              "      <td>(not set)</td>\n",
              "      <td>/receitafederal/pt-br</td>\n",
              "    </tr>\n",
              "    <tr>\n",
              "      <th>1</th>\n",
              "      <td>0</td>\n",
              "      <td>2022-04-07</td>\n",
              "      <td>1.930474e+09</td>\n",
              "      <td>/pt-br/servicos/consultar-cadastro-de-pessoas-...</td>\n",
              "      <td>desktop</td>\n",
              "      <td>Windows</td>\n",
              "      <td>web</td>\n",
              "      <td>servicos.receita.fazenda.gov.br</td>\n",
              "      <td>referral</td>\n",
              "      <td>Referral</td>\n",
              "      <td>(not set)</td>\n",
              "      <td>(not set)</td>\n",
              "      <td>/receitafederal/pt-br</td>\n",
              "    </tr>\n",
              "    <tr>\n",
              "      <th>2</th>\n",
              "      <td>0</td>\n",
              "      <td>2022-04-07</td>\n",
              "      <td>1.930474e+09</td>\n",
              "      <td>/pt-br/servicos/consultar-cadastro-de-pessoas-...</td>\n",
              "      <td>desktop</td>\n",
              "      <td>Windows</td>\n",
              "      <td>web</td>\n",
              "      <td>servicos.receita.fazenda.gov.br</td>\n",
              "      <td>referral</td>\n",
              "      <td>Referral</td>\n",
              "      <td>(not set)</td>\n",
              "      <td>(not set)</td>\n",
              "      <td>/receitafederal/pt-br</td>\n",
              "    </tr>\n",
              "    <tr>\n",
              "      <th>3</th>\n",
              "      <td>0</td>\n",
              "      <td>2022-04-06</td>\n",
              "      <td>1.930474e+09</td>\n",
              "      <td>/receitafederal/pt-br/assuntos/meu-cpf</td>\n",
              "      <td>desktop</td>\n",
              "      <td>Windows</td>\n",
              "      <td>web</td>\n",
              "      <td>servicos.receita.fazenda.gov.br</td>\n",
              "      <td>referral</td>\n",
              "      <td>Referral</td>\n",
              "      <td>(not set)</td>\n",
              "      <td>(not set)</td>\n",
              "      <td>/receitafederal/pt-br</td>\n",
              "    </tr>\n",
              "    <tr>\n",
              "      <th>4</th>\n",
              "      <td>0</td>\n",
              "      <td>2022-04-06</td>\n",
              "      <td>1.930474e+09</td>\n",
              "      <td>/pt-br/servicos/consultar-cadastro-de-pessoas-...</td>\n",
              "      <td>desktop</td>\n",
              "      <td>Windows</td>\n",
              "      <td>web</td>\n",
              "      <td>servicos.receita.fazenda.gov.br</td>\n",
              "      <td>referral</td>\n",
              "      <td>Referral</td>\n",
              "      <td>(not set)</td>\n",
              "      <td>(not set)</td>\n",
              "      <td>/receitafederal/pt-br</td>\n",
              "    </tr>\n",
              "  </tbody>\n",
              "</table>\n",
              "</div>\n",
              "      <button class=\"colab-df-convert\" onclick=\"convertToInteractive('df-2163b7ce-ada7-4052-a9a8-c7636c26627b')\"\n",
              "              title=\"Convert this dataframe to an interactive table.\"\n",
              "              style=\"display:none;\">\n",
              "        \n",
              "  <svg xmlns=\"http://www.w3.org/2000/svg\" height=\"24px\"viewBox=\"0 0 24 24\"\n",
              "       width=\"24px\">\n",
              "    <path d=\"M0 0h24v24H0V0z\" fill=\"none\"/>\n",
              "    <path d=\"M18.56 5.44l.94 2.06.94-2.06 2.06-.94-2.06-.94-.94-2.06-.94 2.06-2.06.94zm-11 1L8.5 8.5l.94-2.06 2.06-.94-2.06-.94L8.5 2.5l-.94 2.06-2.06.94zm10 10l.94 2.06.94-2.06 2.06-.94-2.06-.94-.94-2.06-.94 2.06-2.06.94z\"/><path d=\"M17.41 7.96l-1.37-1.37c-.4-.4-.92-.59-1.43-.59-.52 0-1.04.2-1.43.59L10.3 9.45l-7.72 7.72c-.78.78-.78 2.05 0 2.83L4 21.41c.39.39.9.59 1.41.59.51 0 1.02-.2 1.41-.59l7.78-7.78 2.81-2.81c.8-.78.8-2.07 0-2.86zM5.41 20L4 18.59l7.72-7.72 1.47 1.35L5.41 20z\"/>\n",
              "  </svg>\n",
              "      </button>\n",
              "      \n",
              "  <style>\n",
              "    .colab-df-container {\n",
              "      display:flex;\n",
              "      flex-wrap:wrap;\n",
              "      gap: 12px;\n",
              "    }\n",
              "\n",
              "    .colab-df-convert {\n",
              "      background-color: #E8F0FE;\n",
              "      border: none;\n",
              "      border-radius: 50%;\n",
              "      cursor: pointer;\n",
              "      display: none;\n",
              "      fill: #1967D2;\n",
              "      height: 32px;\n",
              "      padding: 0 0 0 0;\n",
              "      width: 32px;\n",
              "    }\n",
              "\n",
              "    .colab-df-convert:hover {\n",
              "      background-color: #E2EBFA;\n",
              "      box-shadow: 0px 1px 2px rgba(60, 64, 67, 0.3), 0px 1px 3px 1px rgba(60, 64, 67, 0.15);\n",
              "      fill: #174EA6;\n",
              "    }\n",
              "\n",
              "    [theme=dark] .colab-df-convert {\n",
              "      background-color: #3B4455;\n",
              "      fill: #D2E3FC;\n",
              "    }\n",
              "\n",
              "    [theme=dark] .colab-df-convert:hover {\n",
              "      background-color: #434B5C;\n",
              "      box-shadow: 0px 1px 3px 1px rgba(0, 0, 0, 0.15);\n",
              "      filter: drop-shadow(0px 1px 2px rgba(0, 0, 0, 0.3));\n",
              "      fill: #FFFFFF;\n",
              "    }\n",
              "  </style>\n",
              "\n",
              "      <script>\n",
              "        const buttonEl =\n",
              "          document.querySelector('#df-2163b7ce-ada7-4052-a9a8-c7636c26627b button.colab-df-convert');\n",
              "        buttonEl.style.display =\n",
              "          google.colab.kernel.accessAllowed ? 'block' : 'none';\n",
              "\n",
              "        async function convertToInteractive(key) {\n",
              "          const element = document.querySelector('#df-2163b7ce-ada7-4052-a9a8-c7636c26627b');\n",
              "          const dataTable =\n",
              "            await google.colab.kernel.invokeFunction('convertToInteractive',\n",
              "                                                     [key], {});\n",
              "          if (!dataTable) return;\n",
              "\n",
              "          const docLinkHtml = 'Like what you see? Visit the ' +\n",
              "            '<a target=\"_blank\" href=https://colab.research.google.com/notebooks/data_table.ipynb>data table notebook</a>'\n",
              "            + ' to learn more about interactive tables.';\n",
              "          element.innerHTML = '';\n",
              "          dataTable['output_type'] = 'display_data';\n",
              "          await google.colab.output.renderOutput(dataTable, element);\n",
              "          const docLink = document.createElement('div');\n",
              "          docLink.innerHTML = docLinkHtml;\n",
              "          element.appendChild(docLink);\n",
              "        }\n",
              "      </script>\n",
              "    </div>\n",
              "  </div>\n",
              "  "
            ]
          },
          "metadata": {},
          "execution_count": 5
        }
      ]
    },
    {
      "cell_type": "code",
      "source": [
        "data = data.drop_duplicates()"
      ],
      "metadata": {
        "id": "udMer3icmJdi"
      },
      "execution_count": 6,
      "outputs": []
    },
    {
      "cell_type": "code",
      "source": [
        "# filtragem de serviços acima de 50 solicitações\n",
        "#data = data[['service_id'].map(data['service_id'].value_counts() >= 10)]\n",
        "data = data[data['service_id'].map(data['service_id'].value_counts() > 5)]"
      ],
      "metadata": {
        "id": "_MmEXJWwmPMl"
      },
      "execution_count": 7,
      "outputs": []
    },
    {
      "cell_type": "code",
      "source": [
        "data.isnull().sum()"
      ],
      "metadata": {
        "colab": {
          "base_uri": "https://localhost:8080/"
        },
        "id": "XNoo7rS0CYw_",
        "outputId": "5ddd778e-9518-483b-837a-92ddca33dd65"
      },
      "execution_count": 8,
      "outputs": [
        {
          "output_type": "execute_result",
          "data": {
            "text/plain": [
              "id_null             0\n",
              "date                0\n",
              "client_id           0\n",
              "service_id          0\n",
              "device              0\n",
              "platform            0\n",
              "data_source         0\n",
              "source              0\n",
              "medium              0\n",
              "channel_grouping    0\n",
              "campaign            0\n",
              "keyword             0\n",
              "landing_page        0\n",
              "dtype: int64"
            ]
          },
          "metadata": {},
          "execution_count": 8
        }
      ]
    },
    {
      "cell_type": "code",
      "source": [
        "data.head()"
      ],
      "metadata": {
        "colab": {
          "base_uri": "https://localhost:8080/",
          "height": 337
        },
        "id": "EGD3c18qhnOz",
        "outputId": "79028d36-c6cc-4f45-d4fe-c50208c10de3"
      },
      "execution_count": 9,
      "outputs": [
        {
          "output_type": "execute_result",
          "data": {
            "text/plain": [
              "   id_null        date     client_id  \\\n",
              "0        0  2022-04-07  1.930474e+09   \n",
              "1        0  2022-04-07  1.930474e+09   \n",
              "3        0  2022-04-06  1.930474e+09   \n",
              "4        0  2022-04-06  1.930474e+09   \n",
              "5        0  2022-04-05  1.930474e+09   \n",
              "\n",
              "                                          service_id   device platform  \\\n",
              "0  /pt-br/servicos/consultar-restituicao-de-impos...  desktop  Windows   \n",
              "1  /pt-br/servicos/consultar-cadastro-de-pessoas-...  desktop  Windows   \n",
              "3             /receitafederal/pt-br/assuntos/meu-cpf  desktop  Windows   \n",
              "4  /pt-br/servicos/consultar-cadastro-de-pessoas-...  desktop  Windows   \n",
              "5  /pt-br/servicos/consultar-restituicao-de-impos...  desktop  Windows   \n",
              "\n",
              "  data_source                           source    medium channel_grouping  \\\n",
              "0         web  servicos.receita.fazenda.gov.br  referral         Referral   \n",
              "1         web  servicos.receita.fazenda.gov.br  referral         Referral   \n",
              "3         web  servicos.receita.fazenda.gov.br  referral         Referral   \n",
              "4         web  servicos.receita.fazenda.gov.br  referral         Referral   \n",
              "5         web  servicos.receita.fazenda.gov.br  referral         Referral   \n",
              "\n",
              "    campaign    keyword           landing_page  \n",
              "0  (not set)  (not set)  /receitafederal/pt-br  \n",
              "1  (not set)  (not set)  /receitafederal/pt-br  \n",
              "3  (not set)  (not set)  /receitafederal/pt-br  \n",
              "4  (not set)  (not set)  /receitafederal/pt-br  \n",
              "5  (not set)  (not set)  /receitafederal/pt-br  "
            ],
            "text/html": [
              "\n",
              "  <div id=\"df-2d56f58b-2716-4134-83ac-6af08653f155\">\n",
              "    <div class=\"colab-df-container\">\n",
              "      <div>\n",
              "<style scoped>\n",
              "    .dataframe tbody tr th:only-of-type {\n",
              "        vertical-align: middle;\n",
              "    }\n",
              "\n",
              "    .dataframe tbody tr th {\n",
              "        vertical-align: top;\n",
              "    }\n",
              "\n",
              "    .dataframe thead th {\n",
              "        text-align: right;\n",
              "    }\n",
              "</style>\n",
              "<table border=\"1\" class=\"dataframe\">\n",
              "  <thead>\n",
              "    <tr style=\"text-align: right;\">\n",
              "      <th></th>\n",
              "      <th>id_null</th>\n",
              "      <th>date</th>\n",
              "      <th>client_id</th>\n",
              "      <th>service_id</th>\n",
              "      <th>device</th>\n",
              "      <th>platform</th>\n",
              "      <th>data_source</th>\n",
              "      <th>source</th>\n",
              "      <th>medium</th>\n",
              "      <th>channel_grouping</th>\n",
              "      <th>campaign</th>\n",
              "      <th>keyword</th>\n",
              "      <th>landing_page</th>\n",
              "    </tr>\n",
              "  </thead>\n",
              "  <tbody>\n",
              "    <tr>\n",
              "      <th>0</th>\n",
              "      <td>0</td>\n",
              "      <td>2022-04-07</td>\n",
              "      <td>1.930474e+09</td>\n",
              "      <td>/pt-br/servicos/consultar-restituicao-de-impos...</td>\n",
              "      <td>desktop</td>\n",
              "      <td>Windows</td>\n",
              "      <td>web</td>\n",
              "      <td>servicos.receita.fazenda.gov.br</td>\n",
              "      <td>referral</td>\n",
              "      <td>Referral</td>\n",
              "      <td>(not set)</td>\n",
              "      <td>(not set)</td>\n",
              "      <td>/receitafederal/pt-br</td>\n",
              "    </tr>\n",
              "    <tr>\n",
              "      <th>1</th>\n",
              "      <td>0</td>\n",
              "      <td>2022-04-07</td>\n",
              "      <td>1.930474e+09</td>\n",
              "      <td>/pt-br/servicos/consultar-cadastro-de-pessoas-...</td>\n",
              "      <td>desktop</td>\n",
              "      <td>Windows</td>\n",
              "      <td>web</td>\n",
              "      <td>servicos.receita.fazenda.gov.br</td>\n",
              "      <td>referral</td>\n",
              "      <td>Referral</td>\n",
              "      <td>(not set)</td>\n",
              "      <td>(not set)</td>\n",
              "      <td>/receitafederal/pt-br</td>\n",
              "    </tr>\n",
              "    <tr>\n",
              "      <th>3</th>\n",
              "      <td>0</td>\n",
              "      <td>2022-04-06</td>\n",
              "      <td>1.930474e+09</td>\n",
              "      <td>/receitafederal/pt-br/assuntos/meu-cpf</td>\n",
              "      <td>desktop</td>\n",
              "      <td>Windows</td>\n",
              "      <td>web</td>\n",
              "      <td>servicos.receita.fazenda.gov.br</td>\n",
              "      <td>referral</td>\n",
              "      <td>Referral</td>\n",
              "      <td>(not set)</td>\n",
              "      <td>(not set)</td>\n",
              "      <td>/receitafederal/pt-br</td>\n",
              "    </tr>\n",
              "    <tr>\n",
              "      <th>4</th>\n",
              "      <td>0</td>\n",
              "      <td>2022-04-06</td>\n",
              "      <td>1.930474e+09</td>\n",
              "      <td>/pt-br/servicos/consultar-cadastro-de-pessoas-...</td>\n",
              "      <td>desktop</td>\n",
              "      <td>Windows</td>\n",
              "      <td>web</td>\n",
              "      <td>servicos.receita.fazenda.gov.br</td>\n",
              "      <td>referral</td>\n",
              "      <td>Referral</td>\n",
              "      <td>(not set)</td>\n",
              "      <td>(not set)</td>\n",
              "      <td>/receitafederal/pt-br</td>\n",
              "    </tr>\n",
              "    <tr>\n",
              "      <th>5</th>\n",
              "      <td>0</td>\n",
              "      <td>2022-04-05</td>\n",
              "      <td>1.930474e+09</td>\n",
              "      <td>/pt-br/servicos/consultar-restituicao-de-impos...</td>\n",
              "      <td>desktop</td>\n",
              "      <td>Windows</td>\n",
              "      <td>web</td>\n",
              "      <td>servicos.receita.fazenda.gov.br</td>\n",
              "      <td>referral</td>\n",
              "      <td>Referral</td>\n",
              "      <td>(not set)</td>\n",
              "      <td>(not set)</td>\n",
              "      <td>/receitafederal/pt-br</td>\n",
              "    </tr>\n",
              "  </tbody>\n",
              "</table>\n",
              "</div>\n",
              "      <button class=\"colab-df-convert\" onclick=\"convertToInteractive('df-2d56f58b-2716-4134-83ac-6af08653f155')\"\n",
              "              title=\"Convert this dataframe to an interactive table.\"\n",
              "              style=\"display:none;\">\n",
              "        \n",
              "  <svg xmlns=\"http://www.w3.org/2000/svg\" height=\"24px\"viewBox=\"0 0 24 24\"\n",
              "       width=\"24px\">\n",
              "    <path d=\"M0 0h24v24H0V0z\" fill=\"none\"/>\n",
              "    <path d=\"M18.56 5.44l.94 2.06.94-2.06 2.06-.94-2.06-.94-.94-2.06-.94 2.06-2.06.94zm-11 1L8.5 8.5l.94-2.06 2.06-.94-2.06-.94L8.5 2.5l-.94 2.06-2.06.94zm10 10l.94 2.06.94-2.06 2.06-.94-2.06-.94-.94-2.06-.94 2.06-2.06.94z\"/><path d=\"M17.41 7.96l-1.37-1.37c-.4-.4-.92-.59-1.43-.59-.52 0-1.04.2-1.43.59L10.3 9.45l-7.72 7.72c-.78.78-.78 2.05 0 2.83L4 21.41c.39.39.9.59 1.41.59.51 0 1.02-.2 1.41-.59l7.78-7.78 2.81-2.81c.8-.78.8-2.07 0-2.86zM5.41 20L4 18.59l7.72-7.72 1.47 1.35L5.41 20z\"/>\n",
              "  </svg>\n",
              "      </button>\n",
              "      \n",
              "  <style>\n",
              "    .colab-df-container {\n",
              "      display:flex;\n",
              "      flex-wrap:wrap;\n",
              "      gap: 12px;\n",
              "    }\n",
              "\n",
              "    .colab-df-convert {\n",
              "      background-color: #E8F0FE;\n",
              "      border: none;\n",
              "      border-radius: 50%;\n",
              "      cursor: pointer;\n",
              "      display: none;\n",
              "      fill: #1967D2;\n",
              "      height: 32px;\n",
              "      padding: 0 0 0 0;\n",
              "      width: 32px;\n",
              "    }\n",
              "\n",
              "    .colab-df-convert:hover {\n",
              "      background-color: #E2EBFA;\n",
              "      box-shadow: 0px 1px 2px rgba(60, 64, 67, 0.3), 0px 1px 3px 1px rgba(60, 64, 67, 0.15);\n",
              "      fill: #174EA6;\n",
              "    }\n",
              "\n",
              "    [theme=dark] .colab-df-convert {\n",
              "      background-color: #3B4455;\n",
              "      fill: #D2E3FC;\n",
              "    }\n",
              "\n",
              "    [theme=dark] .colab-df-convert:hover {\n",
              "      background-color: #434B5C;\n",
              "      box-shadow: 0px 1px 3px 1px rgba(0, 0, 0, 0.15);\n",
              "      filter: drop-shadow(0px 1px 2px rgba(0, 0, 0, 0.3));\n",
              "      fill: #FFFFFF;\n",
              "    }\n",
              "  </style>\n",
              "\n",
              "      <script>\n",
              "        const buttonEl =\n",
              "          document.querySelector('#df-2d56f58b-2716-4134-83ac-6af08653f155 button.colab-df-convert');\n",
              "        buttonEl.style.display =\n",
              "          google.colab.kernel.accessAllowed ? 'block' : 'none';\n",
              "\n",
              "        async function convertToInteractive(key) {\n",
              "          const element = document.querySelector('#df-2d56f58b-2716-4134-83ac-6af08653f155');\n",
              "          const dataTable =\n",
              "            await google.colab.kernel.invokeFunction('convertToInteractive',\n",
              "                                                     [key], {});\n",
              "          if (!dataTable) return;\n",
              "\n",
              "          const docLinkHtml = 'Like what you see? Visit the ' +\n",
              "            '<a target=\"_blank\" href=https://colab.research.google.com/notebooks/data_table.ipynb>data table notebook</a>'\n",
              "            + ' to learn more about interactive tables.';\n",
              "          element.innerHTML = '';\n",
              "          dataTable['output_type'] = 'display_data';\n",
              "          await google.colab.output.renderOutput(dataTable, element);\n",
              "          const docLink = document.createElement('div');\n",
              "          docLink.innerHTML = docLinkHtml;\n",
              "          element.appendChild(docLink);\n",
              "        }\n",
              "      </script>\n",
              "    </div>\n",
              "  </div>\n",
              "  "
            ]
          },
          "metadata": {},
          "execution_count": 9
        }
      ]
    },
    {
      "cell_type": "markdown",
      "source": [
        "Fazendo o pipeline e transformação das features"
      ],
      "metadata": {
        "id": "CGfypYWJgOx1"
      }
    },
    {
      "cell_type": "code",
      "source": [
        "## separar X e Y\n",
        "## separar teste e train\n",
        "## no treino separar o que é categorico do que é não é. "
      ],
      "metadata": {
        "id": "8dNGJ9GI3c7Q"
      },
      "execution_count": 10,
      "outputs": []
    },
    {
      "cell_type": "code",
      "source": [
        "X = data[['date','device','platform','source','landing_page']]\n",
        "y = np.array(data['service_id'])"
      ],
      "metadata": {
        "id": "cwhOkARwjDDO"
      },
      "execution_count": 11,
      "outputs": []
    },
    {
      "cell_type": "code",
      "source": [
        "# Split data into train, test and validation sets\n",
        "X_train, X_test, y_train, y_test = train_test_split(\n",
        "    X, y, test_size = 0.3, random_state = 42  # TEST = 30%\n",
        ")"
      ],
      "metadata": {
        "id": "2N4XXX5MnlnA"
      },
      "execution_count": 12,
      "outputs": []
    },
    {
      "cell_type": "code",
      "source": [
        "cat_features_train = X_train[['device','platform','source','landing_page']]\n",
        "cat_features_test = X_test[['device','platform','source','landing_page']]"
      ],
      "metadata": {
        "id": "J11Uv_6EpZwP"
      },
      "execution_count": 13,
      "outputs": []
    },
    {
      "cell_type": "code",
      "source": [
        "X_train['date'].apply(lambda x: str(x)[5:7]).value_counts()"
      ],
      "metadata": {
        "colab": {
          "base_uri": "https://localhost:8080/"
        },
        "id": "jR9A0uPvByHO",
        "outputId": "65533cee-90de-4925-a62e-af3fdec4623f"
      },
      "execution_count": 14,
      "outputs": [
        {
          "output_type": "execute_result",
          "data": {
            "text/plain": [
              "03    1031\n",
              "02     773\n",
              "05     760\n",
              "04     632\n",
              "06     477\n",
              "01     396\n",
              "07     357\n",
              "11     226\n",
              "12     225\n",
              "10     218\n",
              "09      52\n",
              "Name: date, dtype: int64"
            ]
          },
          "metadata": {},
          "execution_count": 14
        }
      ]
    },
    {
      "cell_type": "code",
      "source": [
        "def date_transform(data: pd.DataFrame):\n",
        "    \n",
        "    data['month'] = data['date'].apply(lambda x: int(str(x)[4:6]))\n",
        "    data['sin_month'] = data['month'].apply(lambda x: np.sin(2*np.pi*(1-x)/12))\n",
        "    data['cos_month'] = data['month'].apply(lambda x: np.cos(2*np.pi*(1-x)/12))\n",
        "    \n",
        "    dt_datetime = pd.to_datetime(\n",
        "        data['date'],\n",
        "        format=\"%Y-%m-%d\") # provavelmente será necessário realizar um ajuste nesse formato, já que é diferente do anterior\n",
        "                        # \"%Y%m%d%s%Z\"\n",
        "    \n",
        "    data['day'] = dt_datetime.dt.weekday + 1 # segunda = 1 e domingo = 7\n",
        "    \n",
        "    data = data.drop(columns=['month','date',])\n",
        "    #data = data.drop(columns='date')\n",
        "   \n",
        "\n",
        "    return data [['sin_month','cos_month','day']]"
      ],
      "metadata": {
        "id": "C0bbijqxgOXL"
      },
      "execution_count": 15,
      "outputs": []
    },
    {
      "cell_type": "code",
      "source": [
        "print(X_train.info())\n",
        "print(X_test.info())"
      ],
      "metadata": {
        "colab": {
          "base_uri": "https://localhost:8080/"
        },
        "id": "VXJYB_8rZWjD",
        "outputId": "dcde6f5e-b707-4126-c028-9607f0f9bed2"
      },
      "execution_count": 16,
      "outputs": [
        {
          "output_type": "stream",
          "name": "stdout",
          "text": [
            "<class 'pandas.core.frame.DataFrame'>\n",
            "Int64Index: 5147 entries, 4654 to 9906\n",
            "Data columns (total 5 columns):\n",
            " #   Column        Non-Null Count  Dtype \n",
            "---  ------        --------------  ----- \n",
            " 0   date          5147 non-null   object\n",
            " 1   device        5147 non-null   object\n",
            " 2   platform      5147 non-null   object\n",
            " 3   source        5147 non-null   object\n",
            " 4   landing_page  5147 non-null   object\n",
            "dtypes: object(5)\n",
            "memory usage: 241.3+ KB\n",
            "None\n",
            "<class 'pandas.core.frame.DataFrame'>\n",
            "Int64Index: 2207 entries, 3880 to 3980\n",
            "Data columns (total 5 columns):\n",
            " #   Column        Non-Null Count  Dtype \n",
            "---  ------        --------------  ----- \n",
            " 0   date          2207 non-null   object\n",
            " 1   device        2207 non-null   object\n",
            " 2   platform      2207 non-null   object\n",
            " 3   source        2207 non-null   object\n",
            " 4   landing_page  2207 non-null   object\n",
            "dtypes: object(5)\n",
            "memory usage: 103.5+ KB\n",
            "None\n"
          ]
        }
      ]
    },
    {
      "cell_type": "code",
      "source": [
        "datas_train = date_transform(X_train)\n"
      ],
      "metadata": {
        "id": "4uJZdq-825nB"
      },
      "execution_count": 17,
      "outputs": []
    },
    {
      "cell_type": "code",
      "source": [
        "X_train['date'].value_counts()"
      ],
      "metadata": {
        "colab": {
          "base_uri": "https://localhost:8080/"
        },
        "id": "st2s3mns-cwS",
        "outputId": "f2ee8988-64cb-41c2-e43f-49c2f71f5c39"
      },
      "execution_count": 18,
      "outputs": [
        {
          "output_type": "execute_result",
          "data": {
            "text/plain": [
              "2022-03-17    62\n",
              "2022-02-14    62\n",
              "2022-03-16    60\n",
              "2022-03-21    53\n",
              "2022-03-28    49\n",
              "              ..\n",
              "2021-10-03     1\n",
              "2021-10-01     1\n",
              "2021-12-05     1\n",
              "2021-10-09     1\n",
              "2021-09-25     1\n",
              "Name: date, Length: 302, dtype: int64"
            ]
          },
          "metadata": {},
          "execution_count": 18
        }
      ]
    },
    {
      "cell_type": "code",
      "source": [
        "X_test['date'].value_counts()"
      ],
      "metadata": {
        "colab": {
          "base_uri": "https://localhost:8080/"
        },
        "id": "vsgC8Fx7-Mdb",
        "outputId": "a01d9f70-f842-4419-e6b9-4539358cc7a4"
      },
      "execution_count": 19,
      "outputs": [
        {
          "output_type": "execute_result",
          "data": {
            "text/plain": [
              "2022-02-14    35\n",
              "2022-03-21    33\n",
              "2022-03-16    32\n",
              "2022-03-15    29\n",
              "2022-03-17    24\n",
              "              ..\n",
              "2022-01-30     1\n",
              "2022-01-29     1\n",
              "2021-12-19     1\n",
              "2021-11-26     1\n",
              "2021-10-12     1\n",
              "Name: date, Length: 295, dtype: int64"
            ]
          },
          "metadata": {},
          "execution_count": 19
        }
      ]
    },
    {
      "cell_type": "code",
      "source": [
        "datas_test = date_transform(X_test)"
      ],
      "metadata": {
        "id": "THjvzNVs9of2"
      },
      "execution_count": 20,
      "outputs": []
    },
    {
      "cell_type": "code",
      "source": [
        "ohc = OneHotEncoder(handle_unknown=\"ignore\",sparse = False)\n",
        "cat_train_ohc = ohc.fit_transform(cat_features_train)\n",
        "cat_test_ohc = ohc.transform(cat_features_test)\n"
      ],
      "metadata": {
        "id": "fxpCW5Ol5RL3"
      },
      "execution_count": 21,
      "outputs": []
    },
    {
      "cell_type": "code",
      "source": [
        "cat_train_ohc = pd.DataFrame(cat_train_ohc)"
      ],
      "metadata": {
        "id": "IFIP7_TM87p0"
      },
      "execution_count": 22,
      "outputs": []
    },
    {
      "cell_type": "code",
      "source": [
        "cat_test_ohc = pd.DataFrame(cat_test_ohc)"
      ],
      "metadata": {
        "id": "Jaly4XcU87eW"
      },
      "execution_count": 23,
      "outputs": []
    },
    {
      "cell_type": "code",
      "source": [
        "X_train_prepoc = pd.concat([datas_train.reset_index(drop=True),cat_train_ohc.reset_index(drop=True)],axis=1)\n",
        "X_test_prepoc = pd.concat([datas_test.reset_index(drop=True),cat_test_ohc.reset_index(drop=True)],axis=1)"
      ],
      "metadata": {
        "id": "VGQM_-Y456yx"
      },
      "execution_count": 24,
      "outputs": []
    },
    {
      "cell_type": "code",
      "source": [
        "print(datas_train.shape)\n",
        "print(cat_train_ohc.shape)\n",
        "print(X_train.shape)\n",
        "print(X_train_prepoc.shape)"
      ],
      "metadata": {
        "id": "88H4inpQBxv8",
        "colab": {
          "base_uri": "https://localhost:8080/"
        },
        "outputId": "b2656ad3-ed17-477e-8f4f-c23e6dd7ae5b"
      },
      "execution_count": 25,
      "outputs": [
        {
          "output_type": "stream",
          "name": "stdout",
          "text": [
            "(5147, 3)\n",
            "(5147, 544)\n",
            "(5147, 9)\n",
            "(5147, 547)\n"
          ]
        }
      ]
    },
    {
      "cell_type": "code",
      "source": [
        "print(X_test_prepoc.shape)\n",
        "print(X_test.shape)"
      ],
      "metadata": {
        "colab": {
          "base_uri": "https://localhost:8080/"
        },
        "id": "CbxfQKgy6_v0",
        "outputId": "25bb19c3-17af-477a-d827-bdadfce901b2"
      },
      "execution_count": 26,
      "outputs": [
        {
          "output_type": "stream",
          "name": "stdout",
          "text": [
            "(2207, 547)\n",
            "(2207, 9)\n"
          ]
        }
      ]
    },
    {
      "cell_type": "code",
      "source": [
        "lbe_target = LabelEncoder()\n",
        "ohc_target = OneHotEncoder(handle_unknown=\"ignore\",sparse = False)"
      ],
      "metadata": {
        "id": "bWU1ma8t91iJ"
      },
      "execution_count": 27,
      "outputs": []
    },
    {
      "cell_type": "code",
      "source": [
        "y_train"
      ],
      "metadata": {
        "id": "HriPix7P-ARF",
        "colab": {
          "base_uri": "https://localhost:8080/"
        },
        "outputId": "b10927ce-ffd3-4261-cc24-1139abc9e5e9"
      },
      "execution_count": 28,
      "outputs": [
        {
          "output_type": "execute_result",
          "data": {
            "text/plain": [
              "array(['/pt-br/servicos/solicitar-o-seguro-desemprego',\n",
              "       '/pt-br/servicos/consultar-restituicao-de-imposto-de-renda',\n",
              "       '/pt-br/servicos/consultar-dividas-e-pendencias-fiscais', ...,\n",
              "       '/pt-br/servicos/contestar-o-resultado-do-auxilio-emergencial-coronavirus-covid-19',\n",
              "       '/pt-br/servicos/receber-o-abono-salarial',\n",
              "       '/pt-br/servicos/consultar-dividas-e-pendencias-fiscais'],\n",
              "      dtype=object)"
            ]
          },
          "metadata": {},
          "execution_count": 28
        }
      ]
    },
    {
      "cell_type": "code",
      "source": [
        "target_lbe_train = lbe_target.fit_transform(y_train)\n",
        "target_lbe_test = lbe_target.transform(y_test)"
      ],
      "metadata": {
        "id": "lwx3yYfN_oBs"
      },
      "execution_count": 29,
      "outputs": []
    },
    {
      "cell_type": "code",
      "source": [
        "target_ohc_train = ohc_target.fit_transform(target_lbe_train.reshape(-1,1))\n",
        "target_ohc_test = ohc_target.transform(target_lbe_test.reshape(-1,1))\n"
      ],
      "metadata": {
        "id": "WlinLNHu9hYk"
      },
      "execution_count": 30,
      "outputs": []
    },
    {
      "cell_type": "markdown",
      "source": [
        "Testando o XGBoost"
      ],
      "metadata": {
        "id": "n1k__9Tze9ZG"
      }
    },
    {
      "cell_type": "code",
      "source": [
        "X_train_prepoc.shape"
      ],
      "metadata": {
        "id": "xJQlbBPtAmLl",
        "colab": {
          "base_uri": "https://localhost:8080/"
        },
        "outputId": "baf05b3d-fe4c-49cd-869c-6745eb425db4"
      },
      "execution_count": 38,
      "outputs": [
        {
          "output_type": "execute_result",
          "data": {
            "text/plain": [
              "(5147, 547)"
            ]
          },
          "metadata": {},
          "execution_count": 38
        }
      ]
    },
    {
      "cell_type": "code",
      "source": [
        "target_ohc_train.shape"
      ],
      "metadata": {
        "id": "DXaZ9MC1AvID",
        "colab": {
          "base_uri": "https://localhost:8080/"
        },
        "outputId": "4458f2d2-59bf-4f48-c1a8-41cd32f5bfb1"
      },
      "execution_count": 33,
      "outputs": [
        {
          "output_type": "execute_result",
          "data": {
            "text/plain": [
              "(5147, 115)"
            ]
          },
          "metadata": {},
          "execution_count": 33
        }
      ]
    },
    {
      "cell_type": "code",
      "source": [
        "target_ohc_train.shape"
      ],
      "metadata": {
        "id": "jHkVCeLXEKtK",
        "colab": {
          "base_uri": "https://localhost:8080/"
        },
        "outputId": "08e93ecf-278d-4d9e-a305-6b84f3a1c86b"
      },
      "execution_count": 34,
      "outputs": [
        {
          "output_type": "execute_result",
          "data": {
            "text/plain": [
              "(5147, 115)"
            ]
          },
          "metadata": {},
          "execution_count": 34
        }
      ]
    },
    {
      "cell_type": "code",
      "source": [
        "from xgboost import XGBClassifier\n",
        "\n",
        "xgb_reg = XGBClassifier(objective = \"multi:softmax\", max_depth=10, n_estimators=100, learning_rate=0.1)\n",
        "\n",
        "xgb_reg.fit(X_train_prepoc, target_lbe_train,\n",
        "    #evaluate loss at each iteration\n",
        "    eval_set=[(X_train_prepoc, target_lbe_train), (X_test_prepoc, target_lbe_test)],\n",
        "    #stop iterating when eval loss increases 5 times in a row\n",
        "    early_stopping_rounds=5\n",
        ")\n",
        "\n",
        "y_pred = xgb_reg.predict(X_test_prepoc)"
      ],
      "metadata": {
        "id": "c81NrP2qeXUK",
        "colab": {
          "base_uri": "https://localhost:8080/"
        },
        "outputId": "3f14341f-8a8f-4b3f-e8f8-f81350814669"
      },
      "execution_count": 31,
      "outputs": [
        {
          "output_type": "stream",
          "name": "stdout",
          "text": [
            "[0]\tvalidation_0-merror:0.514086\tvalidation_1-merror:0.530131\n",
            "Multiple eval metrics have been passed: 'validation_1-merror' will be used for early stopping.\n",
            "\n",
            "Will train until validation_1-merror hasn't improved in 5 rounds.\n",
            "[1]\tvalidation_0-merror:0.498931\tvalidation_1-merror:0.511101\n",
            "[2]\tvalidation_0-merror:0.480668\tvalidation_1-merror:0.487993\n",
            "[3]\tvalidation_0-merror:0.474257\tvalidation_1-merror:0.482556\n",
            "[4]\tvalidation_0-merror:0.470177\tvalidation_1-merror:0.483009\n",
            "[5]\tvalidation_0-merror:0.460074\tvalidation_1-merror:0.475306\n",
            "[6]\tvalidation_0-merror:0.45852\tvalidation_1-merror:0.472134\n",
            "[7]\tvalidation_0-merror:0.453857\tvalidation_1-merror:0.470775\n",
            "[8]\tvalidation_0-merror:0.450748\tvalidation_1-merror:0.468962\n",
            "[9]\tvalidation_0-merror:0.448417\tvalidation_1-merror:0.467603\n",
            "[10]\tvalidation_0-merror:0.447057\tvalidation_1-merror:0.465791\n",
            "[11]\tvalidation_0-merror:0.442782\tvalidation_1-merror:0.462619\n",
            "[12]\tvalidation_0-merror:0.440451\tvalidation_1-merror:0.460353\n",
            "[13]\tvalidation_0-merror:0.438896\tvalidation_1-merror:0.458994\n",
            "[14]\tvalidation_0-merror:0.436954\tvalidation_1-merror:0.458541\n",
            "[15]\tvalidation_0-merror:0.434234\tvalidation_1-merror:0.456729\n",
            "[16]\tvalidation_0-merror:0.433651\tvalidation_1-merror:0.455822\n",
            "[17]\tvalidation_0-merror:0.432679\tvalidation_1-merror:0.454463\n",
            "[18]\tvalidation_0-merror:0.431125\tvalidation_1-merror:0.454463\n",
            "[19]\tvalidation_0-merror:0.430736\tvalidation_1-merror:0.454916\n",
            "[20]\tvalidation_0-merror:0.428599\tvalidation_1-merror:0.45401\n",
            "[21]\tvalidation_0-merror:0.427239\tvalidation_1-merror:0.457182\n",
            "[22]\tvalidation_0-merror:0.426268\tvalidation_1-merror:0.455822\n",
            "[23]\tvalidation_0-merror:0.423353\tvalidation_1-merror:0.456275\n",
            "[24]\tvalidation_0-merror:0.420633\tvalidation_1-merror:0.456729\n",
            "[25]\tvalidation_0-merror:0.417719\tvalidation_1-merror:0.455822\n",
            "Stopping. Best iteration:\n",
            "[20]\tvalidation_0-merror:0.428599\tvalidation_1-merror:0.45401\n",
            "\n"
          ]
        }
      ]
    },
    {
      "cell_type": "code",
      "source": [
        "from sklearn.metrics import top_k_accuracy_score\n",
        "y_pred_proba = xgb_reg.predict_proba(X_test_prepoc)\n",
        "top_k_accuracy_score(y_test,y_pred_proba,labels = lbe_target.classes_, k=6)\n"
      ],
      "metadata": {
        "id": "e2qKgMN-aRnD",
        "colab": {
          "base_uri": "https://localhost:8080/"
        },
        "outputId": "e215bd87-d361-4a0f-8845-69924c527cde"
      },
      "execution_count": 32,
      "outputs": [
        {
          "output_type": "execute_result",
          "data": {
            "text/plain": [
              "0.7195287720888084"
            ]
          },
          "metadata": {},
          "execution_count": 32
        }
      ]
    },
    {
      "cell_type": "code",
      "source": [
        "recomendados"
      ],
      "metadata": {
        "colab": {
          "base_uri": "https://localhost:8080/"
        },
        "id": "1dMH5SPsBJSK",
        "outputId": "7f353672-0a4e-4b62-e3e2-2d788a6d4171"
      },
      "execution_count": 39,
      "outputs": [
        {
          "output_type": "execute_result",
          "data": {
            "text/plain": [
              "array(['/pt-br/servicos/consultar-dividas-e-pendencias-fiscais',\n",
              "       '/pt-br/servicos/sacar-o-abono-salarial',\n",
              "       '/pt-br/servicos/consultar-restituicao-de-imposto-de-renda',\n",
              "       '/pt-br/servicos/consultar-cadastro-de-pessoas-fisicas',\n",
              "       '/pt-br/servicos/consultar-e-solicitar-a-devolucao-de-valores-a-receber'],\n",
              "      dtype=object)"
            ]
          },
          "metadata": {},
          "execution_count": 39
        }
      ]
    },
    {
      "cell_type": "code",
      "source": [
        "range(y_pred_proba.shape[0])[3]"
      ],
      "metadata": {
        "colab": {
          "base_uri": "https://localhost:8080/"
        },
        "id": "nGfm-BK3AZyd",
        "outputId": "b0134552-334c-418d-bd91-6d1fe7e8d70b"
      },
      "execution_count": 34,
      "outputs": [
        {
          "output_type": "execute_result",
          "data": {
            "text/plain": [
              "3"
            ]
          },
          "metadata": {},
          "execution_count": 34
        }
      ]
    },
    {
      "cell_type": "code",
      "source": [
        "for i in range(1):\n",
        "  recomendados = lbe_target.inverse_transform(np.argsort(y_pred_proba[i,:])[-5:])\n",
        "  print(\"_________________________________________________\")\n",
        "  print(y_pred_proba)\n",
        "  print(\"____________5_Recomendacoes______________________________\")\n",
        "  print(recomendados)\n",
        "  print(\"**************************************\")"
      ],
      "metadata": {
        "colab": {
          "base_uri": "https://localhost:8080/"
        },
        "id": "Wiar7X9N-VJg",
        "outputId": "9b55736f-ff7f-42d7-b1d3-bc4cdcd8679b"
      },
      "execution_count": 42,
      "outputs": [
        {
          "output_type": "stream",
          "name": "stdout",
          "text": [
            "_________________________________________________\n",
            "[[0.00439072 0.00429974 0.00533262 ... 0.00391761 0.00407609 0.00386145]\n",
            " [0.01917453 0.00729104 0.00339097 ... 0.00249118 0.00259196 0.00245547]\n",
            " [0.00269082 0.00665046 0.00340501 ... 0.00240088 0.002498   0.00236646]\n",
            " ...\n",
            " [0.0023631  0.00231413 0.01325828 ... 0.00210847 0.00219376 0.00207824]\n",
            " [0.00455007 0.00425933 0.01459937 ... 0.00595516 0.00422402 0.00400159]\n",
            " [0.0222144  0.00827544 0.00417062 ... 0.00294072 0.00305968 0.00289856]]\n",
            "____________5_Recomendacoes______________________________\n",
            "['/pt-br/servicos/consultar-dividas-e-pendencias-fiscais'\n",
            " '/pt-br/servicos/sacar-o-abono-salarial'\n",
            " '/pt-br/servicos/consultar-restituicao-de-imposto-de-renda'\n",
            " '/pt-br/servicos/consultar-cadastro-de-pessoas-fisicas'\n",
            " '/pt-br/servicos/consultar-e-solicitar-a-devolucao-de-valores-a-receber']\n",
            "**************************************\n"
          ]
        }
      ]
    },
    {
      "cell_type": "code",
      "source": [
        "  recomendados = lbe_target.inverse_transform(np.argsort(y_pred_proba[100,:])[-5:])\n",
        "  print(\"_________________________________________________\")\n",
        "  print(\"____________5_Recomendacoes______________________________\")\n",
        "  print(recomendados)\n",
        "  print(\"**************************************\")"
      ],
      "metadata": {
        "colab": {
          "base_uri": "https://localhost:8080/"
        },
        "id": "Z4Zbk7izCEwF",
        "outputId": "02f044a9-27c7-4f2a-ea34-0e47311d3f7f"
      },
      "execution_count": 47,
      "outputs": [
        {
          "output_type": "stream",
          "name": "stdout",
          "text": [
            "_________________________________________________\n",
            "____________5_Recomendacoes______________________________\n",
            "['/pt-br/servicos/consultar-debitos-inscritos-em-divida-ativa-da-uniao'\n",
            " '/pt-br/servicos/consultar-cadastro-nacional-de-pessoas-juridicas'\n",
            " '/pt-br/servicos/validar-certidao-de-antecedentes-criminais'\n",
            " '/pt-br/servicos/consultar-multas-aplicadas-pelo-dnit'\n",
            " '/pt-br/servicos/consultar-cadastro-de-pessoas-fisicas']\n",
            "**************************************\n"
          ]
        }
      ]
    },
    {
      "cell_type": "code",
      "source": [
        "from xgboost import XGBClassifier\n",
        "xgb_reg_2 = XGBClassifier(objective = \"multi:softmax\", max_depth=10, n_estimators=1000, learning_rate=0.1)\n",
        "\n",
        "xgb_reg_2.fit(X_train_prepoc, target_lbe_train,\n",
        "    #evaluate loss at each iteration\n",
        "    eval_set=[(X_train_prepoc, target_lbe_train), (X_test_prepoc, target_lbe_test)],\n",
        "    #stop iterating when eval loss increases 5 times in a row\n",
        "    early_stopping_rounds=10\n",
        ")\n",
        "\n",
        "y_pred_2 = xgb_reg_2.predict(X_test_prepoc)"
      ],
      "metadata": {
        "id": "-SxPOU5Qnr9w"
      },
      "execution_count": null,
      "outputs": []
    },
    {
      "cell_type": "code",
      "source": [
        "from sklearn.metrics import top_k_accuracy_score\n",
        "y_pred_proba_2 = xgb_reg_2.predict_proba(X_test_prepoc)\n",
        "top_k_accuracy_score(y_test,y_pred_proba_2,labels = lbe_target.classes_, k=6)"
      ],
      "metadata": {
        "id": "GbrXzXgDn52J"
      },
      "execution_count": null,
      "outputs": []
    }
  ]
}
